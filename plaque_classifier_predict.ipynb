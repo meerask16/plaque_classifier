{
 "cells": [
  {
   "cell_type": "markdown",
   "id": "ddf6e08a",
   "metadata": {},
   "source": [
    "## Plaque Classification Model Prediction\n",
    "\n",
    "#### Developer: Meera Srikrishna\n",
    "\n",
    "This notebook demonstrates how to load a pre-trained deep learning model, preprocess a set of images, and use the model to make predictions on the images. The images are classified into three categories: `coarse`, `cored`, and `diffused`. \n",
    "\n",
    "## Steps:\n",
    "1. Import required libraries\n",
    "2. Define paths to test images and model\n",
    "3. Load and preprocess test images\n",
    "4. Load the pre-trained model\n",
    "5. Make predictions\n",
    "6. Map numerical predictions to human-readable class labels\n",
    "7. Display the results\n",
    "\n",
    "#### 1. Import required libraries"
   ]
  },
  {
   "cell_type": "code",
   "execution_count": 19,
   "id": "c5151d86",
   "metadata": {},
   "outputs": [
    {
     "ename": "IndexError",
     "evalue": "list index out of range",
     "output_type": "error",
     "traceback": [
      "\u001b[1;31m---------------------------------------------------------------------------\u001b[0m",
      "\u001b[1;31mIndexError\u001b[0m                                Traceback (most recent call last)",
      "Cell \u001b[1;32mIn[19], line 12\u001b[0m\n\u001b[0;32m     10\u001b[0m \u001b[38;5;28;01mfrom\u001b[39;00m \u001b[38;5;21;01mnumpy\u001b[39;00m \u001b[38;5;28;01mimport\u001b[39;00m argmax\n\u001b[0;32m     11\u001b[0m \u001b[38;5;28;01mimport\u001b[39;00m \u001b[38;5;21;01mtensorflow\u001b[39;00m \u001b[38;5;28;01mas\u001b[39;00m \u001b[38;5;21;01mtf\u001b[39;00m\n\u001b[1;32m---> 12\u001b[0m tf\u001b[38;5;241m.\u001b[39mconfig\u001b[38;5;241m.\u001b[39mexperimental\u001b[38;5;241m.\u001b[39mset_memory_growth(\u001b[43mtf\u001b[49m\u001b[38;5;241;43m.\u001b[39;49m\u001b[43mconfig\u001b[49m\u001b[38;5;241;43m.\u001b[39;49m\u001b[43mlist_physical_devices\u001b[49m\u001b[43m(\u001b[49m\u001b[38;5;124;43m'\u001b[39;49m\u001b[38;5;124;43mGPU\u001b[39;49m\u001b[38;5;124;43m'\u001b[39;49m\u001b[43m)\u001b[49m\u001b[43m[\u001b[49m\u001b[38;5;241;43m0\u001b[39;49m\u001b[43m]\u001b[49m, \u001b[38;5;28;01mTrue\u001b[39;00m)\n\u001b[0;32m     14\u001b[0m \u001b[38;5;28;01mimport\u001b[39;00m \u001b[38;5;21;01mkeras\u001b[39;00m\n\u001b[0;32m     15\u001b[0m \u001b[38;5;28;01mfrom\u001b[39;00m \u001b[38;5;21;01mkeras\u001b[39;00m\u001b[38;5;21;01m.\u001b[39;00m\u001b[38;5;21;01mmodels\u001b[39;00m \u001b[38;5;28;01mimport\u001b[39;00m Sequential\n",
      "\u001b[1;31mIndexError\u001b[0m: list index out of range"
     ]
    }
   ],
   "source": [
    "import argparse\n",
    "import os\n",
    "import random\n",
    "import shutil\n",
    "\n",
    "import numpy as np\n",
    "import pandas as pd\n",
    "import cv2\n",
    "import matplotlib.pyplot as plt\n",
    "from tqdm import tqdm\n",
    "from sklearn.model_selection import train_test_split, StratifiedKFold\n",
    "from sklearn.metrics import accuracy_score\n",
    "from sklearn.preprocessing import MultiLabelBinarizer\n",
    "\n",
    "import tensorflow as tf\n",
    "from tensorflow.keras.models import Sequential, load_model\n",
    "from tensorflow.keras.layers import Dense, Dropout, Flatten, Conv2D, MaxPooling2D\n",
    "from tensorflow.keras.preprocessing.image import ImageDataGenerator, load_img\n",
    "from tensorflow.keras.callbacks import ModelCheckpoint, CSVLogger, EarlyStopping, ReduceLROnPlateau\n",
    "\n",
    "def create_model():\n",
    "    model = Sequential([\n",
    "        Conv2D(16, (3, 3), activation='relu', input_shape=(120, 120, 3)),\n",
    "        MaxPooling2D(2, 2),\n",
    "\n",
    "        Conv2D(32, (3, 3), activation='relu'),\n",
    "        MaxPooling2D(2, 2),\n",
    "\n",
    "        Conv2D(64, (3, 3), activation='relu'),\n",
    "        MaxPooling2D(2, 2),\n",
    "\n",
    "        Conv2D(128, (3, 3), activation='relu'),\n",
    "        MaxPooling2D(2, 2),\n",
    "\n",
    "        Conv2D(128, (3, 3), activation='relu'),\n",
    "        MaxPooling2D(2, 2),\n",
    "\n",
    "        Flatten(),\n",
    "        Dense(512, activation='relu'),\n",
    "        Dense(3, activation='softmax')\n",
    "    ])\n",
    "    return model\n",
    ")"
   ]
  },
  {
   "cell_type": "markdown",
   "id": "4e3d7a9d",
   "metadata": {},
   "source": [
    "#### 2. Define paths to test images and model"
   ]
  },
  {
   "cell_type": "code",
   "execution_count": 2,
   "id": "a61f1e34",
   "metadata": {},
   "outputs": [],
   "source": [
    "test_dir = \"./examples_inputs\"\n",
    "model_path = \"cdc_rep_v1.h5\""
   ]
  },
  {
   "cell_type": "markdown",
   "id": "c3446c17",
   "metadata": {},
   "source": [
    "#### 3. Load image filenames into a dataframe"
   ]
  },
  {
   "cell_type": "code",
   "execution_count": 5,
   "id": "9ae936d5",
   "metadata": {},
   "outputs": [
    {
     "data": {
      "text/html": [
       "<div>\n",
       "<style scoped>\n",
       "    .dataframe tbody tr th:only-of-type {\n",
       "        vertical-align: middle;\n",
       "    }\n",
       "\n",
       "    .dataframe tbody tr th {\n",
       "        vertical-align: top;\n",
       "    }\n",
       "\n",
       "    .dataframe thead th {\n",
       "        text-align: right;\n",
       "    }\n",
       "</style>\n",
       "<table border=\"1\" class=\"dataframe\">\n",
       "  <thead>\n",
       "    <tr style=\"text-align: right;\">\n",
       "      <th></th>\n",
       "      <th>Image</th>\n",
       "    </tr>\n",
       "  </thead>\n",
       "  <tbody>\n",
       "    <tr>\n",
       "      <th>0</th>\n",
       "      <td>01_coarse_19.tif</td>\n",
       "    </tr>\n",
       "    <tr>\n",
       "      <th>1</th>\n",
       "      <td>20_cored_149.tif</td>\n",
       "    </tr>\n",
       "    <tr>\n",
       "      <th>2</th>\n",
       "      <td>55_diffused_1.tif</td>\n",
       "    </tr>\n",
       "  </tbody>\n",
       "</table>\n",
       "</div>"
      ],
      "text/plain": [
       "               Image\n",
       "0   01_coarse_19.tif\n",
       "1   20_cored_149.tif\n",
       "2  55_diffused_1.tif"
      ]
     },
     "execution_count": 5,
     "metadata": {},
     "output_type": "execute_result"
    }
   ],
   "source": [
    "test_img = os.listdir(test_dir)\n",
    "test_df = pd.DataFrame({'Image': test_img})\n",
    "test_df.head()"
   ]
  },
  {
   "cell_type": "markdown",
   "id": "05b5fca5",
   "metadata": {},
   "source": [
    "#### 4. Preprocess the images"
   ]
  },
  {
   "cell_type": "code",
   "execution_count": 6,
   "id": "f9623fa1",
   "metadata": {},
   "outputs": [
    {
     "name": "stdout",
     "output_type": "stream",
     "text": [
      "Found 3 validated image filenames.\n"
     ]
    }
   ],
   "source": [
    "test_gen = ImageDataGenerator(rescale=1./255)\n",
    "# Set up the image generator for loading and preprocessing the images\n",
    "test_generator = test_gen.flow_from_dataframe(\n",
    "    test_df, \n",
    "    test_dir, \n",
    "    x_col='Image',\n",
    "    y_col=None,\n",
    "    class_mode=None,\n",
    "    target_size=(120, 120),\n",
    "    batch_size=8,\n",
    "    shuffle=False,\n",
    "    color_mode='rgb'\n",
    ")"
   ]
  },
  {
   "cell_type": "markdown",
   "id": "e928091c",
   "metadata": {},
   "source": [
    "#### 5. Compile and load the trained model"
   ]
  },
  {
   "cell_type": "code",
   "execution_count": 12,
   "id": "c17b1521",
   "metadata": {},
   "outputs": [],
   "source": [
    "model_pred = create_model()\n",
    "model_pred.compile(optimizer='adam', loss='categorical_crossentropy', metrics=['accuracy']\n",
    "model_pred = load_model(model_path)"
   ]
  },
  {
   "cell_type": "markdown",
   "id": "cb1d7892-8b81-42bc-b9b2-daec37976cd6",
   "metadata": {},
   "source": [
    "#### 6. Make predictions"
   ]
  },
  {
   "cell_type": "code",
   "execution_count": 18,
   "id": "4305ee66",
   "metadata": {},
   "outputs": [
    {
     "ename": "UnimplementedError",
     "evalue": "Graph execution error:\n\nDetected at node 'sequential_1/conv2d_4/Relu' defined at (most recent call last):\n    File \"C:\\Users\\meera\\anaconda3\\envs\\plaque_classifier\\lib\\runpy.py\", line 194, in _run_module_as_main\n      return _run_code(code, main_globals, None,\n    File \"C:\\Users\\meera\\anaconda3\\envs\\plaque_classifier\\lib\\runpy.py\", line 87, in _run_code\n      exec(code, run_globals)\n    File \"C:\\Users\\meera\\anaconda3\\envs\\plaque_classifier\\lib\\site-packages\\ipykernel_launcher.py\", line 18, in <module>\n      app.launch_new_instance()\n    File \"C:\\Users\\meera\\anaconda3\\envs\\plaque_classifier\\lib\\site-packages\\traitlets\\config\\application.py\", line 1075, in launch_instance\n      app.start()\n    File \"C:\\Users\\meera\\anaconda3\\envs\\plaque_classifier\\lib\\site-packages\\ipykernel\\kernelapp.py\", line 739, in start\n      self.io_loop.start()\n    File \"C:\\Users\\meera\\anaconda3\\envs\\plaque_classifier\\lib\\site-packages\\tornado\\platform\\asyncio.py\", line 205, in start\n      self.asyncio_loop.run_forever()\n    File \"C:\\Users\\meera\\anaconda3\\envs\\plaque_classifier\\lib\\asyncio\\base_events.py\", line 570, in run_forever\n      self._run_once()\n    File \"C:\\Users\\meera\\anaconda3\\envs\\plaque_classifier\\lib\\asyncio\\base_events.py\", line 1859, in _run_once\n      handle._run()\n    File \"C:\\Users\\meera\\anaconda3\\envs\\plaque_classifier\\lib\\asyncio\\events.py\", line 81, in _run\n      self._context.run(self._callback, *self._args)\n    File \"C:\\Users\\meera\\anaconda3\\envs\\plaque_classifier\\lib\\site-packages\\ipykernel\\kernelbase.py\", line 545, in dispatch_queue\n      await self.process_one()\n    File \"C:\\Users\\meera\\anaconda3\\envs\\plaque_classifier\\lib\\site-packages\\ipykernel\\kernelbase.py\", line 534, in process_one\n      await dispatch(*args)\n    File \"C:\\Users\\meera\\anaconda3\\envs\\plaque_classifier\\lib\\site-packages\\ipykernel\\kernelbase.py\", line 437, in dispatch_shell\n      await result\n    File \"C:\\Users\\meera\\anaconda3\\envs\\plaque_classifier\\lib\\site-packages\\ipykernel\\ipkernel.py\", line 362, in execute_request\n      await super().execute_request(stream, ident, parent)\n    File \"C:\\Users\\meera\\anaconda3\\envs\\plaque_classifier\\lib\\site-packages\\ipykernel\\kernelbase.py\", line 778, in execute_request\n      reply_content = await reply_content\n    File \"C:\\Users\\meera\\anaconda3\\envs\\plaque_classifier\\lib\\site-packages\\ipykernel\\ipkernel.py\", line 449, in do_execute\n      res = shell.run_cell(\n    File \"C:\\Users\\meera\\anaconda3\\envs\\plaque_classifier\\lib\\site-packages\\ipykernel\\zmqshell.py\", line 549, in run_cell\n      return super().run_cell(*args, **kwargs)\n    File \"C:\\Users\\meera\\anaconda3\\envs\\plaque_classifier\\lib\\site-packages\\IPython\\core\\interactiveshell.py\", line 3009, in run_cell\n      result = self._run_cell(\n    File \"C:\\Users\\meera\\anaconda3\\envs\\plaque_classifier\\lib\\site-packages\\IPython\\core\\interactiveshell.py\", line 3064, in _run_cell\n      result = runner(coro)\n    File \"C:\\Users\\meera\\anaconda3\\envs\\plaque_classifier\\lib\\site-packages\\IPython\\core\\async_helpers.py\", line 129, in _pseudo_sync_runner\n      coro.send(None)\n    File \"C:\\Users\\meera\\anaconda3\\envs\\plaque_classifier\\lib\\site-packages\\IPython\\core\\interactiveshell.py\", line 3269, in run_cell_async\n      has_raised = await self.run_ast_nodes(code_ast.body, cell_name,\n    File \"C:\\Users\\meera\\anaconda3\\envs\\plaque_classifier\\lib\\site-packages\\IPython\\core\\interactiveshell.py\", line 3448, in run_ast_nodes\n      if await self.run_code(code, result, async_=asy):\n    File \"C:\\Users\\meera\\anaconda3\\envs\\plaque_classifier\\lib\\site-packages\\IPython\\core\\interactiveshell.py\", line 3508, in run_code\n      exec(code_obj, self.user_global_ns, self.user_ns)\n    File \"C:\\Users\\meera\\AppData\\Local\\Temp\\ipykernel_7900\\82359475.py\", line 2, in <module>\n      predictions = model_pred.predict(test_generator, steps=len(test_generator))\n    File \"C:\\Users\\meera\\anaconda3\\envs\\plaque_classifier\\lib\\site-packages\\keras\\src\\utils\\traceback_utils.py\", line 65, in error_handler\n      return fn(*args, **kwargs)\n    File \"C:\\Users\\meera\\anaconda3\\envs\\plaque_classifier\\lib\\site-packages\\keras\\src\\engine\\training.py\", line 2554, in predict\n      tmp_batch_outputs = self.predict_function(iterator)\n    File \"C:\\Users\\meera\\anaconda3\\envs\\plaque_classifier\\lib\\site-packages\\keras\\src\\engine\\training.py\", line 2341, in predict_function\n      return step_function(self, iterator)\n    File \"C:\\Users\\meera\\anaconda3\\envs\\plaque_classifier\\lib\\site-packages\\keras\\src\\engine\\training.py\", line 2327, in step_function\n      outputs = model.distribute_strategy.run(run_step, args=(data,))\n    File \"C:\\Users\\meera\\anaconda3\\envs\\plaque_classifier\\lib\\site-packages\\keras\\src\\engine\\training.py\", line 2315, in run_step\n      outputs = model.predict_step(data)\n    File \"C:\\Users\\meera\\anaconda3\\envs\\plaque_classifier\\lib\\site-packages\\keras\\src\\engine\\training.py\", line 2283, in predict_step\n      return self(x, training=False)\n    File \"C:\\Users\\meera\\anaconda3\\envs\\plaque_classifier\\lib\\site-packages\\keras\\src\\utils\\traceback_utils.py\", line 65, in error_handler\n      return fn(*args, **kwargs)\n    File \"C:\\Users\\meera\\anaconda3\\envs\\plaque_classifier\\lib\\site-packages\\keras\\src\\engine\\training.py\", line 569, in __call__\n      return super().__call__(*args, **kwargs)\n    File \"C:\\Users\\meera\\anaconda3\\envs\\plaque_classifier\\lib\\site-packages\\keras\\src\\utils\\traceback_utils.py\", line 65, in error_handler\n      return fn(*args, **kwargs)\n    File \"C:\\Users\\meera\\anaconda3\\envs\\plaque_classifier\\lib\\site-packages\\keras\\src\\engine\\base_layer.py\", line 1150, in __call__\n      outputs = call_fn(inputs, *args, **kwargs)\n    File \"C:\\Users\\meera\\anaconda3\\envs\\plaque_classifier\\lib\\site-packages\\keras\\src\\utils\\traceback_utils.py\", line 96, in error_handler\n      return fn(*args, **kwargs)\n    File \"C:\\Users\\meera\\anaconda3\\envs\\plaque_classifier\\lib\\site-packages\\keras\\src\\engine\\sequential.py\", line 405, in call\n      return super().call(inputs, training=training, mask=mask)\n    File \"C:\\Users\\meera\\anaconda3\\envs\\plaque_classifier\\lib\\site-packages\\keras\\src\\engine\\functional.py\", line 512, in call\n      return self._run_internal_graph(inputs, training=training, mask=mask)\n    File \"C:\\Users\\meera\\anaconda3\\envs\\plaque_classifier\\lib\\site-packages\\keras\\src\\engine\\functional.py\", line 669, in _run_internal_graph\n      outputs = node.layer(*args, **kwargs)\n    File \"C:\\Users\\meera\\anaconda3\\envs\\plaque_classifier\\lib\\site-packages\\keras\\src\\utils\\traceback_utils.py\", line 65, in error_handler\n      return fn(*args, **kwargs)\n    File \"C:\\Users\\meera\\anaconda3\\envs\\plaque_classifier\\lib\\site-packages\\keras\\src\\engine\\base_layer.py\", line 1150, in __call__\n      outputs = call_fn(inputs, *args, **kwargs)\n    File \"C:\\Users\\meera\\anaconda3\\envs\\plaque_classifier\\lib\\site-packages\\keras\\src\\utils\\traceback_utils.py\", line 96, in error_handler\n      return fn(*args, **kwargs)\n    File \"C:\\Users\\meera\\anaconda3\\envs\\plaque_classifier\\lib\\site-packages\\keras\\src\\layers\\convolutional\\base_conv.py\", line 321, in call\n      return self.activation(outputs)\n    File \"C:\\Users\\meera\\anaconda3\\envs\\plaque_classifier\\lib\\site-packages\\keras\\src\\activations.py\", line 321, in relu\n      return backend.relu(\n    File \"C:\\Users\\meera\\anaconda3\\envs\\plaque_classifier\\lib\\site-packages\\keras\\src\\backend.py\", line 5397, in relu\n      x = tf.nn.relu(x)\nNode: 'sequential_1/conv2d_4/Relu'\nFused conv implementation does not support grouped convolutions for now.\n\t [[{{node sequential_1/conv2d_4/Relu}}]] [Op:__inference_predict_function_1747]",
     "output_type": "error",
     "traceback": [
      "\u001b[1;31m---------------------------------------------------------------------------\u001b[0m",
      "\u001b[1;31mUnimplementedError\u001b[0m                        Traceback (most recent call last)",
      "Cell \u001b[1;32mIn[18], line 2\u001b[0m\n\u001b[0;32m      1\u001b[0m \u001b[38;5;66;03m# Predict on the test data\u001b[39;00m\n\u001b[1;32m----> 2\u001b[0m predictions \u001b[38;5;241m=\u001b[39m \u001b[43mmodel_pred\u001b[49m\u001b[38;5;241;43m.\u001b[39;49m\u001b[43mpredict\u001b[49m\u001b[43m(\u001b[49m\u001b[43mtest_generator\u001b[49m\u001b[43m,\u001b[49m\u001b[43m \u001b[49m\u001b[43msteps\u001b[49m\u001b[38;5;241;43m=\u001b[39;49m\u001b[38;5;28;43mlen\u001b[39;49m\u001b[43m(\u001b[49m\u001b[43mtest_generator\u001b[49m\u001b[43m)\u001b[49m\u001b[43m)\u001b[49m\n\u001b[0;32m      3\u001b[0m preds_cls_idx \u001b[38;5;241m=\u001b[39m predictions\u001b[38;5;241m.\u001b[39margmax(axis\u001b[38;5;241m=\u001b[39m\u001b[38;5;241m-\u001b[39m\u001b[38;5;241m1\u001b[39m)\n\u001b[0;32m      5\u001b[0m \u001b[38;5;66;03m# Define class names\u001b[39;00m\n",
      "File \u001b[1;32m~\\anaconda3\\envs\\plaque_classifier\\lib\\site-packages\\keras\\src\\utils\\traceback_utils.py:70\u001b[0m, in \u001b[0;36mfilter_traceback.<locals>.error_handler\u001b[1;34m(*args, **kwargs)\u001b[0m\n\u001b[0;32m     67\u001b[0m     filtered_tb \u001b[38;5;241m=\u001b[39m _process_traceback_frames(e\u001b[38;5;241m.\u001b[39m__traceback__)\n\u001b[0;32m     68\u001b[0m     \u001b[38;5;66;03m# To get the full stack trace, call:\u001b[39;00m\n\u001b[0;32m     69\u001b[0m     \u001b[38;5;66;03m# `tf.debugging.disable_traceback_filtering()`\u001b[39;00m\n\u001b[1;32m---> 70\u001b[0m     \u001b[38;5;28;01mraise\u001b[39;00m e\u001b[38;5;241m.\u001b[39mwith_traceback(filtered_tb) \u001b[38;5;28;01mfrom\u001b[39;00m \u001b[38;5;28;01mNone\u001b[39;00m\n\u001b[0;32m     71\u001b[0m \u001b[38;5;28;01mfinally\u001b[39;00m:\n\u001b[0;32m     72\u001b[0m     \u001b[38;5;28;01mdel\u001b[39;00m filtered_tb\n",
      "File \u001b[1;32m~\\anaconda3\\envs\\plaque_classifier\\lib\\site-packages\\tensorflow\\python\\eager\\execute.py:53\u001b[0m, in \u001b[0;36mquick_execute\u001b[1;34m(op_name, num_outputs, inputs, attrs, ctx, name)\u001b[0m\n\u001b[0;32m     51\u001b[0m \u001b[38;5;28;01mtry\u001b[39;00m:\n\u001b[0;32m     52\u001b[0m   ctx\u001b[38;5;241m.\u001b[39mensure_initialized()\n\u001b[1;32m---> 53\u001b[0m   tensors \u001b[38;5;241m=\u001b[39m pywrap_tfe\u001b[38;5;241m.\u001b[39mTFE_Py_Execute(ctx\u001b[38;5;241m.\u001b[39m_handle, device_name, op_name,\n\u001b[0;32m     54\u001b[0m                                       inputs, attrs, num_outputs)\n\u001b[0;32m     55\u001b[0m \u001b[38;5;28;01mexcept\u001b[39;00m core\u001b[38;5;241m.\u001b[39m_NotOkStatusException \u001b[38;5;28;01mas\u001b[39;00m e:\n\u001b[0;32m     56\u001b[0m   \u001b[38;5;28;01mif\u001b[39;00m name \u001b[38;5;129;01mis\u001b[39;00m \u001b[38;5;129;01mnot\u001b[39;00m \u001b[38;5;28;01mNone\u001b[39;00m:\n",
      "\u001b[1;31mUnimplementedError\u001b[0m: Graph execution error:\n\nDetected at node 'sequential_1/conv2d_4/Relu' defined at (most recent call last):\n    File \"C:\\Users\\meera\\anaconda3\\envs\\plaque_classifier\\lib\\runpy.py\", line 194, in _run_module_as_main\n      return _run_code(code, main_globals, None,\n    File \"C:\\Users\\meera\\anaconda3\\envs\\plaque_classifier\\lib\\runpy.py\", line 87, in _run_code\n      exec(code, run_globals)\n    File \"C:\\Users\\meera\\anaconda3\\envs\\plaque_classifier\\lib\\site-packages\\ipykernel_launcher.py\", line 18, in <module>\n      app.launch_new_instance()\n    File \"C:\\Users\\meera\\anaconda3\\envs\\plaque_classifier\\lib\\site-packages\\traitlets\\config\\application.py\", line 1075, in launch_instance\n      app.start()\n    File \"C:\\Users\\meera\\anaconda3\\envs\\plaque_classifier\\lib\\site-packages\\ipykernel\\kernelapp.py\", line 739, in start\n      self.io_loop.start()\n    File \"C:\\Users\\meera\\anaconda3\\envs\\plaque_classifier\\lib\\site-packages\\tornado\\platform\\asyncio.py\", line 205, in start\n      self.asyncio_loop.run_forever()\n    File \"C:\\Users\\meera\\anaconda3\\envs\\plaque_classifier\\lib\\asyncio\\base_events.py\", line 570, in run_forever\n      self._run_once()\n    File \"C:\\Users\\meera\\anaconda3\\envs\\plaque_classifier\\lib\\asyncio\\base_events.py\", line 1859, in _run_once\n      handle._run()\n    File \"C:\\Users\\meera\\anaconda3\\envs\\plaque_classifier\\lib\\asyncio\\events.py\", line 81, in _run\n      self._context.run(self._callback, *self._args)\n    File \"C:\\Users\\meera\\anaconda3\\envs\\plaque_classifier\\lib\\site-packages\\ipykernel\\kernelbase.py\", line 545, in dispatch_queue\n      await self.process_one()\n    File \"C:\\Users\\meera\\anaconda3\\envs\\plaque_classifier\\lib\\site-packages\\ipykernel\\kernelbase.py\", line 534, in process_one\n      await dispatch(*args)\n    File \"C:\\Users\\meera\\anaconda3\\envs\\plaque_classifier\\lib\\site-packages\\ipykernel\\kernelbase.py\", line 437, in dispatch_shell\n      await result\n    File \"C:\\Users\\meera\\anaconda3\\envs\\plaque_classifier\\lib\\site-packages\\ipykernel\\ipkernel.py\", line 362, in execute_request\n      await super().execute_request(stream, ident, parent)\n    File \"C:\\Users\\meera\\anaconda3\\envs\\plaque_classifier\\lib\\site-packages\\ipykernel\\kernelbase.py\", line 778, in execute_request\n      reply_content = await reply_content\n    File \"C:\\Users\\meera\\anaconda3\\envs\\plaque_classifier\\lib\\site-packages\\ipykernel\\ipkernel.py\", line 449, in do_execute\n      res = shell.run_cell(\n    File \"C:\\Users\\meera\\anaconda3\\envs\\plaque_classifier\\lib\\site-packages\\ipykernel\\zmqshell.py\", line 549, in run_cell\n      return super().run_cell(*args, **kwargs)\n    File \"C:\\Users\\meera\\anaconda3\\envs\\plaque_classifier\\lib\\site-packages\\IPython\\core\\interactiveshell.py\", line 3009, in run_cell\n      result = self._run_cell(\n    File \"C:\\Users\\meera\\anaconda3\\envs\\plaque_classifier\\lib\\site-packages\\IPython\\core\\interactiveshell.py\", line 3064, in _run_cell\n      result = runner(coro)\n    File \"C:\\Users\\meera\\anaconda3\\envs\\plaque_classifier\\lib\\site-packages\\IPython\\core\\async_helpers.py\", line 129, in _pseudo_sync_runner\n      coro.send(None)\n    File \"C:\\Users\\meera\\anaconda3\\envs\\plaque_classifier\\lib\\site-packages\\IPython\\core\\interactiveshell.py\", line 3269, in run_cell_async\n      has_raised = await self.run_ast_nodes(code_ast.body, cell_name,\n    File \"C:\\Users\\meera\\anaconda3\\envs\\plaque_classifier\\lib\\site-packages\\IPython\\core\\interactiveshell.py\", line 3448, in run_ast_nodes\n      if await self.run_code(code, result, async_=asy):\n    File \"C:\\Users\\meera\\anaconda3\\envs\\plaque_classifier\\lib\\site-packages\\IPython\\core\\interactiveshell.py\", line 3508, in run_code\n      exec(code_obj, self.user_global_ns, self.user_ns)\n    File \"C:\\Users\\meera\\AppData\\Local\\Temp\\ipykernel_7900\\82359475.py\", line 2, in <module>\n      predictions = model_pred.predict(test_generator, steps=len(test_generator))\n    File \"C:\\Users\\meera\\anaconda3\\envs\\plaque_classifier\\lib\\site-packages\\keras\\src\\utils\\traceback_utils.py\", line 65, in error_handler\n      return fn(*args, **kwargs)\n    File \"C:\\Users\\meera\\anaconda3\\envs\\plaque_classifier\\lib\\site-packages\\keras\\src\\engine\\training.py\", line 2554, in predict\n      tmp_batch_outputs = self.predict_function(iterator)\n    File \"C:\\Users\\meera\\anaconda3\\envs\\plaque_classifier\\lib\\site-packages\\keras\\src\\engine\\training.py\", line 2341, in predict_function\n      return step_function(self, iterator)\n    File \"C:\\Users\\meera\\anaconda3\\envs\\plaque_classifier\\lib\\site-packages\\keras\\src\\engine\\training.py\", line 2327, in step_function\n      outputs = model.distribute_strategy.run(run_step, args=(data,))\n    File \"C:\\Users\\meera\\anaconda3\\envs\\plaque_classifier\\lib\\site-packages\\keras\\src\\engine\\training.py\", line 2315, in run_step\n      outputs = model.predict_step(data)\n    File \"C:\\Users\\meera\\anaconda3\\envs\\plaque_classifier\\lib\\site-packages\\keras\\src\\engine\\training.py\", line 2283, in predict_step\n      return self(x, training=False)\n    File \"C:\\Users\\meera\\anaconda3\\envs\\plaque_classifier\\lib\\site-packages\\keras\\src\\utils\\traceback_utils.py\", line 65, in error_handler\n      return fn(*args, **kwargs)\n    File \"C:\\Users\\meera\\anaconda3\\envs\\plaque_classifier\\lib\\site-packages\\keras\\src\\engine\\training.py\", line 569, in __call__\n      return super().__call__(*args, **kwargs)\n    File \"C:\\Users\\meera\\anaconda3\\envs\\plaque_classifier\\lib\\site-packages\\keras\\src\\utils\\traceback_utils.py\", line 65, in error_handler\n      return fn(*args, **kwargs)\n    File \"C:\\Users\\meera\\anaconda3\\envs\\plaque_classifier\\lib\\site-packages\\keras\\src\\engine\\base_layer.py\", line 1150, in __call__\n      outputs = call_fn(inputs, *args, **kwargs)\n    File \"C:\\Users\\meera\\anaconda3\\envs\\plaque_classifier\\lib\\site-packages\\keras\\src\\utils\\traceback_utils.py\", line 96, in error_handler\n      return fn(*args, **kwargs)\n    File \"C:\\Users\\meera\\anaconda3\\envs\\plaque_classifier\\lib\\site-packages\\keras\\src\\engine\\sequential.py\", line 405, in call\n      return super().call(inputs, training=training, mask=mask)\n    File \"C:\\Users\\meera\\anaconda3\\envs\\plaque_classifier\\lib\\site-packages\\keras\\src\\engine\\functional.py\", line 512, in call\n      return self._run_internal_graph(inputs, training=training, mask=mask)\n    File \"C:\\Users\\meera\\anaconda3\\envs\\plaque_classifier\\lib\\site-packages\\keras\\src\\engine\\functional.py\", line 669, in _run_internal_graph\n      outputs = node.layer(*args, **kwargs)\n    File \"C:\\Users\\meera\\anaconda3\\envs\\plaque_classifier\\lib\\site-packages\\keras\\src\\utils\\traceback_utils.py\", line 65, in error_handler\n      return fn(*args, **kwargs)\n    File \"C:\\Users\\meera\\anaconda3\\envs\\plaque_classifier\\lib\\site-packages\\keras\\src\\engine\\base_layer.py\", line 1150, in __call__\n      outputs = call_fn(inputs, *args, **kwargs)\n    File \"C:\\Users\\meera\\anaconda3\\envs\\plaque_classifier\\lib\\site-packages\\keras\\src\\utils\\traceback_utils.py\", line 96, in error_handler\n      return fn(*args, **kwargs)\n    File \"C:\\Users\\meera\\anaconda3\\envs\\plaque_classifier\\lib\\site-packages\\keras\\src\\layers\\convolutional\\base_conv.py\", line 321, in call\n      return self.activation(outputs)\n    File \"C:\\Users\\meera\\anaconda3\\envs\\plaque_classifier\\lib\\site-packages\\keras\\src\\activations.py\", line 321, in relu\n      return backend.relu(\n    File \"C:\\Users\\meera\\anaconda3\\envs\\plaque_classifier\\lib\\site-packages\\keras\\src\\backend.py\", line 5397, in relu\n      x = tf.nn.relu(x)\nNode: 'sequential_1/conv2d_4/Relu'\nFused conv implementation does not support grouped convolutions for now.\n\t [[{{node sequential_1/conv2d_4/Relu}}]] [Op:__inference_predict_function_1747]"
     ]
    }
   ],
   "source": [
    "# Predict on the test data\n",
    "predictions = model_pred.predict(test_generator, steps=len(test_generator))\n",
    "preds_cls_idx = predictions.argmax(axis=-1)\n",
    "\n",
    "# Define class names\n",
    "class_names = {\n",
    "    0: \"coarse\",\n",
    "    1: \"cored\",\n",
    "    2: \"diffused\",\n",
    "}\n",
    "predicted_classes = [class_names[idx] for idx in preds_cls_idx]\n",
    "\n",
    "# Display results\n",
    "filenames_to_cls = list(zip(test_generator.filenames, predicted_classes))\n",
    "for i, (filename, class_name) in enumerate(filenames_to_cls, start=1):\n",
    "    print(f\"Sample {i}: Filename: {filename}, Predicted Class: {class_name}\")"
   ]
  },
  {
   "cell_type": "code",
   "execution_count": 16,
   "id": "c70116a5-2cf7-4329-bd00-fca8371cefcd",
   "metadata": {},
   "outputs": [
    {
     "name": "stdout",
     "output_type": "stream",
     "text": [
      "Name: tensorflow\n",
      "Version: 2.13.0\n",
      "Summary: TensorFlow is an open source machine learning framework for everyone.\n",
      "Home-page: https://www.tensorflow.org/\n",
      "Author: Google Inc.\n",
      "Author-email: packages@tensorflow.org\n",
      "License: Apache 2.0\n",
      "Location: c:\\users\\meera\\anaconda3\\envs\\plaque_classifier\\lib\\site-packages\n",
      "Requires: tensorflow-intel\n",
      "Required-by: \n"
     ]
    }
   ],
   "source": [
    "!pip show tensorflow\n"
   ]
  },
  {
   "cell_type": "code",
   "execution_count": 17,
   "id": "4577135d-b77d-4e55-82d5-c76cd3c8f4ef",
   "metadata": {},
   "outputs": [
    {
     "name": "stdout",
     "output_type": "stream",
     "text": [
      "Requirement already satisfied: tensorflow in c:\\users\\meera\\anaconda3\\envs\\plaque_classifier\\lib\\site-packages (2.13.0)\n",
      "Collecting tensorflow\n",
      "  Using cached tensorflow-2.13.1-cp38-cp38-win_amd64.whl.metadata (2.6 kB)\n",
      "INFO: pip is looking at multiple versions of tensorflow to determine which version is compatible with other requirements. This could take a while.\n",
      "Requirement already satisfied: tensorflow-intel==2.13.0 in c:\\users\\meera\\anaconda3\\envs\\plaque_classifier\\lib\\site-packages (from tensorflow) (2.13.0)\n",
      "Requirement already satisfied: absl-py>=1.0.0 in c:\\users\\meera\\anaconda3\\envs\\plaque_classifier\\lib\\site-packages (from tensorflow-intel==2.13.0->tensorflow) (2.1.0)\n",
      "Requirement already satisfied: astunparse>=1.6.0 in c:\\users\\meera\\anaconda3\\envs\\plaque_classifier\\lib\\site-packages (from tensorflow-intel==2.13.0->tensorflow) (1.6.3)\n",
      "Requirement already satisfied: flatbuffers>=23.1.21 in c:\\users\\meera\\anaconda3\\envs\\plaque_classifier\\lib\\site-packages (from tensorflow-intel==2.13.0->tensorflow) (24.3.25)\n",
      "Requirement already satisfied: gast<=0.4.0,>=0.2.1 in c:\\users\\meera\\anaconda3\\envs\\plaque_classifier\\lib\\site-packages (from tensorflow-intel==2.13.0->tensorflow) (0.4.0)\n",
      "Requirement already satisfied: google-pasta>=0.1.1 in c:\\users\\meera\\anaconda3\\envs\\plaque_classifier\\lib\\site-packages (from tensorflow-intel==2.13.0->tensorflow) (0.2.0)\n",
      "Requirement already satisfied: h5py>=2.9.0 in c:\\users\\meera\\anaconda3\\envs\\plaque_classifier\\lib\\site-packages (from tensorflow-intel==2.13.0->tensorflow) (3.11.0)\n",
      "Requirement already satisfied: libclang>=13.0.0 in c:\\users\\meera\\anaconda3\\envs\\plaque_classifier\\lib\\site-packages (from tensorflow-intel==2.13.0->tensorflow) (18.1.1)\n",
      "Requirement already satisfied: numpy<=1.24.3,>=1.22 in c:\\users\\meera\\anaconda3\\envs\\plaque_classifier\\lib\\site-packages (from tensorflow-intel==2.13.0->tensorflow) (1.24.3)\n",
      "Requirement already satisfied: opt-einsum>=2.3.2 in c:\\users\\meera\\anaconda3\\envs\\plaque_classifier\\lib\\site-packages (from tensorflow-intel==2.13.0->tensorflow) (3.4.0)\n",
      "Requirement already satisfied: packaging in c:\\users\\meera\\anaconda3\\envs\\plaque_classifier\\lib\\site-packages (from tensorflow-intel==2.13.0->tensorflow) (24.2)\n",
      "Requirement already satisfied: protobuf!=4.21.0,!=4.21.1,!=4.21.2,!=4.21.3,!=4.21.4,!=4.21.5,<5.0.0dev,>=3.20.3 in c:\\users\\meera\\anaconda3\\envs\\plaque_classifier\\lib\\site-packages (from tensorflow-intel==2.13.0->tensorflow) (4.25.5)\n",
      "Requirement already satisfied: setuptools in c:\\users\\meera\\anaconda3\\envs\\plaque_classifier\\lib\\site-packages (from tensorflow-intel==2.13.0->tensorflow) (75.1.0)\n",
      "Requirement already satisfied: six>=1.12.0 in c:\\users\\meera\\anaconda3\\envs\\plaque_classifier\\lib\\site-packages (from tensorflow-intel==2.13.0->tensorflow) (1.17.0)\n",
      "Requirement already satisfied: termcolor>=1.1.0 in c:\\users\\meera\\anaconda3\\envs\\plaque_classifier\\lib\\site-packages (from tensorflow-intel==2.13.0->tensorflow) (2.4.0)\n",
      "Requirement already satisfied: typing-extensions<4.6.0,>=3.6.6 in c:\\users\\meera\\anaconda3\\envs\\plaque_classifier\\lib\\site-packages (from tensorflow-intel==2.13.0->tensorflow) (4.5.0)\n",
      "Requirement already satisfied: wrapt>=1.11.0 in c:\\users\\meera\\anaconda3\\envs\\plaque_classifier\\lib\\site-packages (from tensorflow-intel==2.13.0->tensorflow) (1.17.0)\n",
      "Requirement already satisfied: grpcio<2.0,>=1.24.3 in c:\\users\\meera\\anaconda3\\envs\\plaque_classifier\\lib\\site-packages (from tensorflow-intel==2.13.0->tensorflow) (1.68.1)\n",
      "Requirement already satisfied: tensorboard<2.14,>=2.13 in c:\\users\\meera\\anaconda3\\envs\\plaque_classifier\\lib\\site-packages (from tensorflow-intel==2.13.0->tensorflow) (2.13.0)\n",
      "Requirement already satisfied: tensorflow-estimator<2.14,>=2.13.0 in c:\\users\\meera\\anaconda3\\envs\\plaque_classifier\\lib\\site-packages (from tensorflow-intel==2.13.0->tensorflow) (2.13.0)\n",
      "Requirement already satisfied: keras<2.14,>=2.13.1 in c:\\users\\meera\\anaconda3\\envs\\plaque_classifier\\lib\\site-packages (from tensorflow-intel==2.13.0->tensorflow) (2.13.1)\n",
      "Requirement already satisfied: tensorflow-io-gcs-filesystem>=0.23.1 in c:\\users\\meera\\anaconda3\\envs\\plaque_classifier\\lib\\site-packages (from tensorflow-intel==2.13.0->tensorflow) (0.31.0)\n",
      "Requirement already satisfied: wheel<1.0,>=0.23.0 in c:\\users\\meera\\anaconda3\\envs\\plaque_classifier\\lib\\site-packages (from astunparse>=1.6.0->tensorflow-intel==2.13.0->tensorflow) (0.44.0)\n",
      "Requirement already satisfied: google-auth<3,>=1.6.3 in c:\\users\\meera\\anaconda3\\envs\\plaque_classifier\\lib\\site-packages (from tensorboard<2.14,>=2.13->tensorflow-intel==2.13.0->tensorflow) (2.37.0)\n",
      "Requirement already satisfied: google-auth-oauthlib<1.1,>=0.5 in c:\\users\\meera\\anaconda3\\envs\\plaque_classifier\\lib\\site-packages (from tensorboard<2.14,>=2.13->tensorflow-intel==2.13.0->tensorflow) (1.0.0)\n",
      "Requirement already satisfied: markdown>=2.6.8 in c:\\users\\meera\\anaconda3\\envs\\plaque_classifier\\lib\\site-packages (from tensorboard<2.14,>=2.13->tensorflow-intel==2.13.0->tensorflow) (3.7)\n",
      "Requirement already satisfied: requests<3,>=2.21.0 in c:\\users\\meera\\anaconda3\\envs\\plaque_classifier\\lib\\site-packages (from tensorboard<2.14,>=2.13->tensorflow-intel==2.13.0->tensorflow) (2.32.3)\n",
      "Requirement already satisfied: tensorboard-data-server<0.8.0,>=0.7.0 in c:\\users\\meera\\anaconda3\\envs\\plaque_classifier\\lib\\site-packages (from tensorboard<2.14,>=2.13->tensorflow-intel==2.13.0->tensorflow) (0.7.2)\n",
      "Requirement already satisfied: werkzeug>=1.0.1 in c:\\users\\meera\\anaconda3\\envs\\plaque_classifier\\lib\\site-packages (from tensorboard<2.14,>=2.13->tensorflow-intel==2.13.0->tensorflow) (3.0.6)\n",
      "Requirement already satisfied: cachetools<6.0,>=2.0.0 in c:\\users\\meera\\anaconda3\\envs\\plaque_classifier\\lib\\site-packages (from google-auth<3,>=1.6.3->tensorboard<2.14,>=2.13->tensorflow-intel==2.13.0->tensorflow) (5.5.0)\n",
      "Requirement already satisfied: pyasn1-modules>=0.2.1 in c:\\users\\meera\\anaconda3\\envs\\plaque_classifier\\lib\\site-packages (from google-auth<3,>=1.6.3->tensorboard<2.14,>=2.13->tensorflow-intel==2.13.0->tensorflow) (0.4.1)\n",
      "Requirement already satisfied: rsa<5,>=3.1.4 in c:\\users\\meera\\anaconda3\\envs\\plaque_classifier\\lib\\site-packages (from google-auth<3,>=1.6.3->tensorboard<2.14,>=2.13->tensorflow-intel==2.13.0->tensorflow) (4.9)\n",
      "Requirement already satisfied: requests-oauthlib>=0.7.0 in c:\\users\\meera\\anaconda3\\envs\\plaque_classifier\\lib\\site-packages (from google-auth-oauthlib<1.1,>=0.5->tensorboard<2.14,>=2.13->tensorflow-intel==2.13.0->tensorflow) (2.0.0)\n",
      "Requirement already satisfied: importlib-metadata>=4.4 in c:\\users\\meera\\anaconda3\\envs\\plaque_classifier\\lib\\site-packages (from markdown>=2.6.8->tensorboard<2.14,>=2.13->tensorflow-intel==2.13.0->tensorflow) (8.5.0)\n",
      "Requirement already satisfied: charset-normalizer<4,>=2 in c:\\users\\meera\\anaconda3\\envs\\plaque_classifier\\lib\\site-packages (from requests<3,>=2.21.0->tensorboard<2.14,>=2.13->tensorflow-intel==2.13.0->tensorflow) (3.4.0)\n",
      "Requirement already satisfied: idna<4,>=2.5 in c:\\users\\meera\\anaconda3\\envs\\plaque_classifier\\lib\\site-packages (from requests<3,>=2.21.0->tensorboard<2.14,>=2.13->tensorflow-intel==2.13.0->tensorflow) (3.10)\n",
      "Requirement already satisfied: urllib3<3,>=1.21.1 in c:\\users\\meera\\anaconda3\\envs\\plaque_classifier\\lib\\site-packages (from requests<3,>=2.21.0->tensorboard<2.14,>=2.13->tensorflow-intel==2.13.0->tensorflow) (2.2.3)\n",
      "Requirement already satisfied: certifi>=2017.4.17 in c:\\users\\meera\\anaconda3\\envs\\plaque_classifier\\lib\\site-packages (from requests<3,>=2.21.0->tensorboard<2.14,>=2.13->tensorflow-intel==2.13.0->tensorflow) (2024.12.14)\n",
      "Requirement already satisfied: MarkupSafe>=2.1.1 in c:\\users\\meera\\anaconda3\\envs\\plaque_classifier\\lib\\site-packages (from werkzeug>=1.0.1->tensorboard<2.14,>=2.13->tensorflow-intel==2.13.0->tensorflow) (2.1.5)\n",
      "Requirement already satisfied: zipp>=3.20 in c:\\users\\meera\\anaconda3\\envs\\plaque_classifier\\lib\\site-packages (from importlib-metadata>=4.4->markdown>=2.6.8->tensorboard<2.14,>=2.13->tensorflow-intel==2.13.0->tensorflow) (3.20.2)\n",
      "Requirement already satisfied: pyasn1<0.7.0,>=0.4.6 in c:\\users\\meera\\anaconda3\\envs\\plaque_classifier\\lib\\site-packages (from pyasn1-modules>=0.2.1->google-auth<3,>=1.6.3->tensorboard<2.14,>=2.13->tensorflow-intel==2.13.0->tensorflow) (0.6.1)\n",
      "Requirement already satisfied: oauthlib>=3.0.0 in c:\\users\\meera\\anaconda3\\envs\\plaque_classifier\\lib\\site-packages (from requests-oauthlib>=0.7.0->google-auth-oauthlib<1.1,>=0.5->tensorboard<2.14,>=2.13->tensorflow-intel==2.13.0->tensorflow) (3.2.2)\n"
     ]
    }
   ],
   "source": [
    "!pip install --upgrade tensorflow\n"
   ]
  },
  {
   "cell_type": "code",
   "execution_count": 20,
   "id": "9f32d656-69e8-4864-ac5b-5c5a38eb3f63",
   "metadata": {},
   "outputs": [
    {
     "name": "stdout",
     "output_type": "stream",
     "text": [
      "No GPUs detected\n"
     ]
    }
   ],
   "source": [
    "import tensorflow as tf\n",
    "\n",
    "# Check if TensorFlow can detect GPUs\n",
    "gpus = tf.config.list_physical_devices('GPU')\n",
    "\n",
    "if gpus:\n",
    "    print(f\"GPUs detected: {len(gpus)}\")\n",
    "    for i, gpu in enumerate(gpus):\n",
    "        print(f\"GPU {i}: {gpu.name}\")\n",
    "else:\n",
    "    print(\"No GPUs detected\")\n"
   ]
  },
  {
   "cell_type": "code",
   "execution_count": null,
   "id": "c3ca3f19-0387-420e-b3f6-cc05229222dd",
   "metadata": {},
   "outputs": [],
   "source": []
  }
 ],
 "metadata": {
  "kernelspec": {
   "display_name": "Python 3 (ipykernel)",
   "language": "python",
   "name": "python3"
  },
  "language_info": {
   "codemirror_mode": {
    "name": "ipython",
    "version": 3
   },
   "file_extension": ".py",
   "mimetype": "text/x-python",
   "name": "python",
   "nbconvert_exporter": "python",
   "pygments_lexer": "ipython3",
   "version": "3.9.15"
  }
 },
 "nbformat": 4,
 "nbformat_minor": 5
}
