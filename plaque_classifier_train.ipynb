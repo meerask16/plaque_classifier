{
 "cells": [
  {
   "cell_type": "markdown",
   "id": "0032f95c-9881-4f1e-876b-12f93dd69bad",
   "metadata": {},
   "source": [
    "## Plaque Classification Model Training\n",
    "\n",
    "#### Developer: Meera Srikrishna\n",
    "\n",
    "This script implements a deep learning pipeline for classifying amyloid plaque images into three categories: `coarse`, `cored`, and `diffused`. It includes data preprocessing, model training using a Convolutional Neural Network (CNN), and K-Fold cross-validation evaluation.\n",
    "\n",
    "## Steps:\n",
    "1. **Import required libraries**: Load necessary Python packages for image processing, deep learning, and evaluation.\n",
    "2. **Load and preprocess images**: Convert images to grayscale, normalize pixel values, and reshape for CNN input.\n",
    "3. **Define and compile CNN model**: Construct a sequential CNN model with convolutional, pooling, and dense layers.\n",
    "4. **Implement K-Fold cross-validation**: Train the model across multiple folds to ensure robustness.\n",
    "5. **Apply data augmentation**: Use transformations like rotation, zoom, and flips to enhance training.\n",
    "6. **Train the model**: Utilize callbacks for early stopping, learning rate adjustments, and model checkpointing.\n",
    "7. **Evaluate and save results**: Store training history, best models, and logs for further analysis."
   ]
  },
  {
   "cell_type": "markdown",
   "id": "393c872b-21c6-401e-9e9d-53239ba82924",
   "metadata": {},
   "source": [
    "#### 1. Import required libraries"
   ]
  },
  {
   "cell_type": "code",
   "execution_count": null,
   "id": "23944605-1e6e-4a3f-87fc-dca6bda80fa6",
   "metadata": {},
   "outputs": [],
   "source": [
    "import os\n",
    "import numpy as np\n",
    "import pandas as pd\n",
    "import cv2\n",
    "import tensorflow as tf\n",
    "from tensorflow.keras.models import Sequential\n",
    "from tensorflow.keras.layers import Conv2D, MaxPooling2D, Flatten, Dense\n",
    "from tensorflow.keras.utils import to_categorical\n",
    "from tensorflow.keras.preprocessing.image import ImageDataGenerator\n",
    "from tensorflow.keras.callbacks import ModelCheckpoint, CSVLogger, EarlyStopping, ReduceLROnPlateau\n",
    "from sklearn.model_selection import StratifiedKFold"
   ]
  },
  {
   "cell_type": "markdown",
   "id": "9a907633-0447-4bef-af22-81166fef6f54",
   "metadata": {},
   "source": [
    "#### 2. Load and preprocess images"
   ]
  },
  {
   "cell_type": "code",
   "execution_count": null,
   "id": "f8f49d74-27fe-4ac5-a42d-3a300f0813bd",
   "metadata": {},
   "outputs": [],
   "source": [
    "# Load and preprocess images\n",
    "data_dir = \"path/to/input/data/images\"\n",
    "all_images = []\n",
    "for filename in sorted(os.listdir(data_dir)):\n",
    "    if filename.endswith('.jpg') or filename.endswith('.tif'):\n",
    "        image = cv2.imread(os.path.join(data_dir, filename))\n",
    "        image = cv2.cvtColor(image, cv2.COLOR_BGR2RGB)\n",
    "        image = cv2.cvtColor(image, cv2.COLOR_RGB2GRAY)\n",
    "        all_images.append(image)\n",
    "\n",
    "image_array = np.array(all_images)\n",
    "#Save the numpy training array for future use\n",
    "#np.save('train_images_plaq_class_rep_grayscale.npy', image_array)\n",
    "del image_array\n",
    "\n",
    "# Load labels\n",
    "label_array = pd.read_csv('path/to/labels.csv', header=None).values\n",
    "#Save the numpy training label array for future use\n",
    "#np.save('train_labels_plaq_class_rep.npy', train_data)\n",
    "del label_array\n",
    "\n",
    "# Load preprocessed data\n",
    "train_data = np.load('train_images_plaq_class_rep_grayscale.npy')\n",
    "train_label = np.load(\"train_labels_plaq_class_rep.npy\")\n",
    "\n",
    "# Normalize images\n",
    "min_value = np.min(train_data)\n",
    "max_value = np.max(train_data)\n",
    "train_data = (train_data - min_value) / (max_value - min_value)\n",
    "train_data = train_data.reshape(-1, 120, 120, 1)\n",
    "\n",
    "# Convert labels to categorical format\n",
    "train_label_cat = to_categorical(train_label)"
   ]
  },
  {
   "cell_type": "markdown",
   "id": "d9471c87-6d89-48a1-af1b-425f25ec8592",
   "metadata": {},
   "source": [
    "#### 3. Define and compile CNN model"
   ]
  },
  {
   "cell_type": "code",
   "execution_count": null,
   "id": "e3234ac4-9ab3-4ab9-8012-eec411ee60d2",
   "metadata": {},
   "outputs": [],
   "source": [
    "def create_model():\n",
    "    model = Sequential([\n",
    "        Conv2D(16, (3,3), activation='relu', input_shape=(120,120,1)),\n",
    "        MaxPooling2D(2, 2),\n",
    "        Conv2D(32, (3,3), activation='relu'),\n",
    "        MaxPooling2D(2,2),\n",
    "        Conv2D(64, (3,3), activation='relu'),\n",
    "        MaxPooling2D(2,2),\n",
    "        Conv2D(128, (3,3), activation='relu'),\n",
    "        MaxPooling2D(2,2),\n",
    "        Conv2D(128, (3,3), activation='relu'),\n",
    "        MaxPooling2D(2,2),\n",
    "        Flatten(),\n",
    "        Dense(512, activation='relu'),\n",
    "        Dense(3, activation='softmax')\n",
    "    ])\n",
    "    model.compile(optimizer='adam', loss='categorical_crossentropy', metrics=['accuracy'])\n",
    "    return model"
   ]
  },
  {
   "cell_type": "markdown",
   "id": "34211973-6ef0-46b6-b410-92dd0fa72512",
   "metadata": {},
   "source": [
    "#### 4. Implement K-Fold cross-validation"
   ]
  },
  {
   "cell_type": "code",
   "execution_count": null,
   "id": "e1fb16d7-00ec-41d1-8aa5-2b779db10935",
   "metadata": {},
   "outputs": [],
   "source": [
    "num_folds = 3 #default is 3; can be changed accordingly\n",
    "kf = StratifiedKFold(n_splits=num_folds, shuffle=True, random_state=42)"
   ]
  },
  {
   "cell_type": "markdown",
   "id": "e719c056-5b36-4366-9f8f-1d8fb2a88042",
   "metadata": {},
   "source": [
    "#### 5. Apply data augmentation"
   ]
  },
  {
   "cell_type": "code",
   "execution_count": null,
   "id": "7309dc81-e260-4f66-aa63-f7b72ec56577",
   "metadata": {},
   "outputs": [],
   "source": [
    "datagen = ImageDataGenerator(\n",
    "    rotation_range=40,\n",
    "    width_shift_range=0.2,\n",
    "    height_shift_range=0.2,\n",
    "    shear_range=0.2,\n",
    "    zoom_range=0.2,\n",
    "    horizontal_flip=True,\n",
    "    fill_mode='nearest')"
   ]
  },
  {
   "cell_type": "markdown",
   "id": "cb3499da-cd7a-4bc2-a620-b4b6c4ad0167",
   "metadata": {},
   "source": [
    "#### 6-7: Train the model and save the results"
   ]
  },
  {
   "cell_type": "code",
   "execution_count": null,
   "id": "9e916e03-2593-40a1-853c-617a810aa59b",
   "metadata": {},
   "outputs": [],
   "source": [
    "X, y = train_data, train_label_cat\n",
    "fold = 0\n",
    "for train_index, val_index in kf.split(X, y):\n",
    "    fold += 1\n",
    "    print(f\"Fold {fold}\")\n",
    "    X_train, X_val = X[train_index], X[val_index]\n",
    "    y_train, y_val = y[train_index], y[val_index]\n",
    "    train_datagen = datagen.flow(X_train, y_train, batch_size=4)\n",
    "    model = create_model()\n",
    "    checkpoint_filepath = f'fold_{fold}_best_model.h5'\n",
    "    callbacks = [\n",
    "        ModelCheckpoint(filepath=checkpoint_filepath, monitor='val_accuracy', save_best_only=True, mode='max'),\n",
    "        CSVLogger(f'fold_{fold}_training.log'),\n",
    "        EarlyStopping(monitor='val_loss', patience=5, restore_best_weights=True),\n",
    "        ReduceLROnPlateau(monitor='val_loss', factor=0.2, patience=3, min_lr=1e-6)\n",
    "    ]\n",
    "    history = model.fit(train_datagen, epochs=100, validation_data=(X_val, y_val), callbacks=callbacks)\n",
    "    np.save(f'fold_{fold}_history.npy', history.history)\n",
    "    print(\"Training complete. Best models and logs saved.\")"
   ]
  }
 ],
 "metadata": {
  "kernelspec": {
   "display_name": "Python 3 (ipykernel)",
   "language": "python",
   "name": "python3"
  },
  "language_info": {
   "codemirror_mode": {
    "name": "ipython",
    "version": 3
   },
   "file_extension": ".py",
   "mimetype": "text/x-python",
   "name": "python",
   "nbconvert_exporter": "python",
   "pygments_lexer": "ipython3",
   "version": "3.9.19"
  }
 },
 "nbformat": 4,
 "nbformat_minor": 5
}
